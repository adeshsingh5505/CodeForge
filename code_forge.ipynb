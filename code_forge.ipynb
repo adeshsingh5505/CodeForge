{
  "nbformat": 4,
  "nbformat_minor": 0,
  "metadata": {
    "colab": {
      "provenance": [],
      "mount_file_id": "1-XtoPSJ-BbfxyCErDAEWO81MW0ExLu-I",
      "authorship_tag": "ABX9TyMhY0A1Opi+Le69x2hV1dVY",
      "include_colab_link": true
    },
    "kernelspec": {
      "name": "python3",
      "display_name": "Python 3"
    },
    "language_info": {
      "name": "python"
    },
    "accelerator": "TPU"
  },
  "cells": [
    {
      "cell_type": "markdown",
      "metadata": {
        "id": "view-in-github",
        "colab_type": "text"
      },
      "source": [
        "<a href=\"https://colab.research.google.com/github/adeshsingh5505/CodeForge/blob/main/code_forge.ipynb\" target=\"_parent\"><img src=\"https://colab.research.google.com/assets/colab-badge.svg\" alt=\"Open In Colab\"/></a>"
      ]
    },
    {
      "cell_type": "code",
      "source": [
        "from zipfile import ZipFile\n",
        "dataset='/content/plants.zip'\n",
        "with ZipFile(dataset,'r') as zip:\n",
        "  zip.extractall()\n",
        "  print('dataset extracted')"
      ],
      "metadata": {
        "id": "-jaK_3GfA0Gg"
      },
      "execution_count": null,
      "outputs": []
    },
    {
      "cell_type": "code",
      "source": [
        "!ls\n"
      ],
      "metadata": {
        "id": "li0fUgVQBngy"
      },
      "execution_count": null,
      "outputs": []
    },
    {
      "cell_type": "code",
      "source": [
        "import os\n",
        "import numpy as np\n",
        "import matplotlib.pyplot as plt\n",
        "import matplotlib.image as mpimg\n",
        "import cv2\n",
        "from google.colab.patches import cv2_imshow\n",
        "from PIL import Image\n",
        "from sklearn.model_selection import train_test_split\n"
      ],
      "metadata": {
        "id": "T6T15PPAD56i"
      },
      "execution_count": 3,
      "outputs": []
    },
    {
      "cell_type": "code",
      "source": [
        "mango_files=os.listdir('/content/plants/mango')\n",
        "banana_files=os.listdir('/content/plants/banana')\n",
        "apple_files=os.listdir('/content/plants/apple')\n",
        "brinjal_files=os.listdir('/content/plants/brinjal')\n",
        "cauliflower_files=os.listdir('/content/plants/cauliflower')\n",
        "chilli_files=os.listdir('/content/plants/chilli')\n",
        "peepal_files=os.listdir('/content/plants/peepal')\n",
        "rose_files=os.listdir('/content/plants/rose')"
      ],
      "metadata": {
        "id": "_DGhffmOWE43"
      },
      "execution_count": 4,
      "outputs": []
    },
    {
      "cell_type": "code",
      "source": [
        "print('banana images',len(banana_files))\n",
        "print('mango images',len(mango_files))"
      ],
      "metadata": {
        "id": "UKHYucWrFa3i"
      },
      "execution_count": null,
      "outputs": []
    },
    {
      "cell_type": "markdown",
      "source": [
        "Creating label for 8 class images\n",
        "mango-0\n",
        "apple-1\n",
        "brinjal-3\n",
        "cauliflower-4\n",
        "chilli-5\n",
        "peepal-6\n",
        "rose-7\n"
      ],
      "metadata": {
        "id": "fTSdi-iSj2gh"
      }
    },
    {
      "cell_type": "code",
      "source": [
        "mango_labels=[0]*len(mango_files)\n",
        "banana_labels=[1]*len(banana_files)\n",
        "apple_labels=[2]*len(apple_files)\n",
        "brinjal_labels=[3]*len(brinjal_files)\n",
        "cauliflower_labels=[4]*len(cauliflower_files)\n",
        "chilli_labels=[5]*len(chilli_files)\n",
        "peepal_labels=[6]*len(peepal_files)\n",
        "rose_labels=[7]*len(rose_files)\n"
      ],
      "metadata": {
        "id": "a1V1tSbaj--R"
      },
      "execution_count": 6,
      "outputs": []
    },
    {
      "cell_type": "code",
      "source": [
        "print(banana_labels[0:5])\n",
        "print(mango_labels[0:5])\n",
        "print(apple_labels[0:5])\n",
        "print(brinjal_labels[0:5])\n",
        "print(cauliflower_labels[0:5])\n",
        "print(chilli_labels[0:5])\n",
        "print(peepal_labels[0:5])\n",
        "print(rose_labels[0:5])\n"
      ],
      "metadata": {
        "id": "OULYhpP0kNl7"
      },
      "execution_count": null,
      "outputs": []
    },
    {
      "cell_type": "code",
      "source": [
        "labels=banana_labels+mango_labels+apple_labels+brinjal_labels+cauliflower_labels+chilli_labels+peepal_labels+rose_labels"
      ],
      "metadata": {
        "id": "84pVDp3RlUES"
      },
      "execution_count": 11,
      "outputs": []
    },
    {
      "cell_type": "code",
      "source": [
        "print(len(labels))"
      ],
      "metadata": {
        "id": "9gJB7bAWlb98"
      },
      "execution_count": null,
      "outputs": []
    },
    {
      "cell_type": "code",
      "source": [
        "# printing images\n",
        "img_width, img_height = 80,80\n",
        "img=mpimg.imread('/content/plants/peepal/102735223.jpg')\n",
        "imgplot=plt.imshow(img)\n",
        "plt.show()"
      ],
      "metadata": {
        "id": "6PmLd_m-nhWZ"
      },
      "execution_count": null,
      "outputs": []
    },
    {
      "cell_type": "code",
      "source": [
        "img=mpimg.imread('/content/plants/mango/download (1).jpeg')\n",
        "imgplot=plt.imshow(img)\n",
        "plt.show()"
      ],
      "metadata": {
        "id": "GL2o3UsaoU-J"
      },
      "execution_count": null,
      "outputs": []
    },
    {
      "cell_type": "markdown",
      "source": [
        "**image processing 1.resizing 2. convert images to numpy array**"
      ],
      "metadata": {
        "id": "FJlhoJS6ocYZ"
      }
    },
    {
      "cell_type": "code",
      "source": [
        "banana_path='/content/plants/banana/'\n",
        "data=[]\n",
        "\n",
        "for img_file in banana_files:\n",
        "\n",
        " image = Image.open(banana_path+img_file)\n",
        " image = image.resize((128,128))\n",
        " image = image.convert('RGB')\n",
        " image = np.array(image)\n",
        " data.append(image)\n",
        "\n",
        "mango_path='/content/plants/mango/'\n",
        "\n",
        "\n",
        "for img_file in mango_files:\n",
        "\n",
        " image = Image.open(mango_path+img_file)\n",
        " image = image.resize((128,128))\n",
        " image = image.convert('RGB')\n",
        " image = np.array(image)\n",
        " data.append(image)\n",
        "\n",
        "apple_path='/content/plants/apple/'\n",
        "\n",
        "for img_file in apple_files:\n",
        "\n",
        " image = Image.open(apple_path+img_file)\n",
        " image = image.resize((128,128))\n",
        " image = image.convert('RGB')\n",
        " image = np.array(image)\n",
        " data.append(image)\n",
        "\n",
        "brinjal_path='/content/plants/brinjal/'\n",
        "\n",
        "\n",
        "for img_file in brinjal_files:\n",
        "\n",
        " image = Image.open(brinjal_path+img_file)\n",
        " image = image.resize((128,128))\n",
        " image = image.convert('RGB')\n",
        " image = np.array(image)\n",
        " data.append(image)\n",
        "\n",
        " cauliflower_path='/content/plants/cauliflower/'\n",
        "\n",
        "\n",
        "for img_file in cauliflower_files:\n",
        "\n",
        " image = Image.open(cauliflower_path+img_file)\n",
        " image = image.resize((128,128))\n",
        " image = image.convert('RGB')\n",
        " image = np.array(image)\n",
        " data.append(image)\n",
        "\n",
        "chilli_path='/content/plants/chilli/'\n",
        "\n",
        "\n",
        "for img_file in chilli_files:\n",
        "\n",
        " image = Image.open(chilli_path+img_file)\n",
        " image = image.resize((128,128))\n",
        " image = image.convert('RGB')\n",
        " image = np.array(image)\n",
        " data.append(image)\n",
        "\n",
        " peepal_path='/content/plants/peepal/'\n",
        "\n",
        "for img_file in peepal_files:\n",
        "\n",
        " image = Image.open(peepal_path+img_file)\n",
        " image = image.resize((128,128))\n",
        " image = image.convert('RGB')\n",
        " image = np.array(image)\n",
        " data.append(image)\n",
        "\n",
        "rose_path='/content/plants/rose/'\n",
        "\n",
        "\n",
        "for img_file in rose_files:\n",
        "\n",
        " image = Image.open(rose_path+img_file)\n",
        " image = image.resize((128,128))\n",
        " image = image.convert('RGB')\n",
        " image = np.array(image)\n",
        " data.append(image)\n",
        ""
      ],
      "metadata": {
        "id": "FCT3J5VMooSm"
      },
      "execution_count": 9,
      "outputs": []
    },
    {
      "cell_type": "code",
      "source": [
        "len(data)\n"
      ],
      "metadata": {
        "id": "lGU0P8XEu6BB"
      },
      "execution_count": null,
      "outputs": []
    },
    {
      "cell_type": "code",
      "source": [
        "type(data[0])"
      ],
      "metadata": {
        "id": "xeu51K8uvC2n",
        "colab": {
          "base_uri": "https://localhost:8080/"
        },
        "outputId": "fb7f7b6a-4974-4d03-b2cf-231878cfccdc"
      },
      "execution_count": 302,
      "outputs": [
        {
          "output_type": "execute_result",
          "data": {
            "text/plain": [
              "numpy.ndarray"
            ]
          },
          "metadata": {},
          "execution_count": 302
        }
      ]
    },
    {
      "cell_type": "code",
      "source": [
        "# converting imagelist and labellist to numpy array\n",
        "X=np.array(data)\n",
        "Y=np.array(labels)"
      ],
      "metadata": {
        "id": "pUG6BKsavIAb"
      },
      "execution_count": 12,
      "outputs": []
    },
    {
      "cell_type": "code",
      "source": [
        "print(X.shape)\n",
        "print(Y.shape)"
      ],
      "metadata": {
        "id": "Mv-SuaEaweMi",
        "colab": {
          "base_uri": "https://localhost:8080/"
        },
        "outputId": "278ad05b-13bb-46c0-9c7d-a32a8d3a3e6c"
      },
      "execution_count": 304,
      "outputs": [
        {
          "output_type": "stream",
          "name": "stdout",
          "text": [
            "(400, 128, 128, 3)\n",
            "(400,)\n"
          ]
        }
      ]
    },
    {
      "cell_type": "code",
      "source": [
        "# train test splitting\n",
        "X_train, X_test, Y_train, Y_test=train_test_split(X,Y,test_size=0.2,random_state=8)\n",
        "print(X_train.shape,X_test.shape,Y_train.shape,Y_test.shape)"
      ],
      "metadata": {
        "id": "RvTlpft0wpFD"
      },
      "execution_count": null,
      "outputs": []
    },
    {
      "cell_type": "code",
      "source": [
        "# scaling data\n",
        "X_train_scaled=X_train/255\n",
        "X_test_scaled=X_test/255"
      ],
      "metadata": {
        "id": "0T26jAR9imIz"
      },
      "execution_count": 15,
      "outputs": []
    },
    {
      "cell_type": "markdown",
      "source": [
        "**CNN**"
      ],
      "metadata": {
        "id": "I-XKTdHni7IM"
      }
    },
    {
      "cell_type": "code",
      "source": [
        "import tensorflow as tf\n",
        "from tensorflow import keras"
      ],
      "metadata": {
        "id": "n8sCqwO7i_Ax"
      },
      "execution_count": 16,
      "outputs": []
    },
    {
      "cell_type": "code",
      "source": [
        "num_of_classes=8\n",
        "model=keras.Sequential()\n",
        "\n",
        "model.add(keras.layers.Conv2D(32,kernel_size=(3,3),activation='relu',input_shape=(128,128,3)))\n",
        "model.add(keras.layers.MaxPooling2D(pool_size=(2,2)))\n",
        "#tf.keras.backend.clear_session() #clearing GPU\n",
        "\n",
        "model.add(keras.layers.Conv2D(64,kernel_size=(3,3),activation='relu'))\n",
        "model.add(keras.layers.MaxPooling2D(pool_size=(2,2)))\n",
        "\n",
        "model.add(keras.layers.Flatten())\n",
        "#tf.keras.backend.clear_session() #clearing GPU\n",
        "\n",
        "model.add(keras.layers.Dense(128,activation='relu'))\n",
        "\n",
        "model.add(keras.layers.Dropout(0.5))\n",
        "\n",
        "model.add(keras.layers.Dense(num_of_classes,activation='sigmoid'))"
      ],
      "metadata": {
        "id": "4mR6aHCWjJHJ"
      },
      "execution_count": 17,
      "outputs": []
    },
    {
      "cell_type": "code",
      "source": [
        "model.summary()"
      ],
      "metadata": {
        "id": "3JOzicD2fH7J"
      },
      "execution_count": null,
      "outputs": []
    },
    {
      "cell_type": "code",
      "source": [
        "# compile neural network\n",
        "model.compile(optimizer='adam',\n",
        "              loss='sparse_categorical_crossentropy',\n",
        "              metrics=['acc'])"
      ],
      "metadata": {
        "id": "ZtXTcKU_lJZy"
      },
      "execution_count": 18,
      "outputs": []
    },
    {
      "cell_type": "code",
      "source": [
        "keras.utils.plot_model(\n",
        "    model,\n",
        "    to_file=\"model.png\",\n",
        "    show_shapes=True,\n",
        "    show_dtype=True,\n",
        "    show_layer_names=True,\n",
        "    rankdir=\"TB\",\n",
        "    expand_nested=False,\n",
        "    dpi=96,\n",
        ")"
      ],
      "metadata": {
        "id": "9Emg-_5cZpEC"
      },
      "execution_count": null,
      "outputs": []
    },
    {
      "cell_type": "code",
      "source": [
        "#training the neural network\n",
        "history=model.fit(X_train_scaled,Y_train,validation_split=0.1,epochs=150)"
      ],
      "metadata": {
        "id": "nODD7fWPdksC"
      },
      "execution_count": null,
      "outputs": []
    },
    {
      "cell_type": "code",
      "source": [
        "# model evaluation\n",
        "loss, accuracy=model.evaluate(X_test_scaled,Y_test)\n",
        "print('Test accuracy=',accuracy)"
      ],
      "metadata": {
        "id": "odkJ4EBGl9nB"
      },
      "execution_count": null,
      "outputs": []
    },
    {
      "cell_type": "code",
      "source": [
        "h=history\n",
        "#Plot the loss value\n",
        "plt.plot(h.history['loss'],label='Train loss')\n",
        "plt.plot(h.history['val_loss'],label='validation Loss')\n",
        "plt.legend()\n",
        "plt.show()\n",
        "\n",
        "#Plot the accuracy value\n",
        "plt.plot(h.history['acc'],label='Train accuracy')\n",
        "plt.plot(h.history['val_acc'],label='Validation accuracy')\n",
        "plt.legend()\n",
        "plt.show()"
      ],
      "metadata": {
        "id": "PrDUf_Dnnjwb"
      },
      "execution_count": null,
      "outputs": []
    },
    {
      "cell_type": "code",
      "source": [
        "input_image_path=input('Path of image to be predicted')\n",
        "input_image=cv2.imread(input_image_path)\n",
        "cv2_imshow(input_image)\n",
        "input_image_resized=cv2.resize(input_image,(128,128))\n",
        "input_image_scaled=input_image_resized/255\n",
        "input_image_reshaped=np.reshape(input_image_scaled,[1,128,128,3])\n",
        "input_prediction=model.predict(input_image_reshaped)\n",
        "print(input_prediction)\n",
        "input_pred_label=np.argmax(input_prediction)\n",
        "print(input_pred_label)\n",
        "if input_pred_label == 0:\n",
        "  print('Mango')\n",
        "elif input_pred_label == 1:\n",
        "  print('Banana')\n",
        "elif input_pred_label == 2:\n",
        "  print('Apple')\n",
        "elif input_pred_label == 3:\n",
        "  print('Brinjal')\n",
        "elif input_pred_label == 4:\n",
        "  print('Cauliflower')\n",
        "elif input_pred_label == 5:\n",
        "  print('Chilli')\n",
        "elif input_pred_label == 6:\n",
        "  print('Peepal')\n",
        "elif input_pred_label == 7:\n",
        "  print('Rose')\n",
        "\n"
      ],
      "metadata": {
        "id": "fECvw4g2oRJx"
      },
      "execution_count": null,
      "outputs": []
    }
  ]
}